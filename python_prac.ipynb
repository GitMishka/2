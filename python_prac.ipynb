{
  "nbformat": 4,
  "nbformat_minor": 0,
  "metadata": {
    "colab": {
      "provenance": [],
      "authorship_tag": "ABX9TyMYYEzmKJVaUCqUPw3G4Mwt",
      "include_colab_link": true
    },
    "kernelspec": {
      "name": "python3",
      "display_name": "Python 3"
    },
    "language_info": {
      "name": "python"
    }
  },
  "cells": [
    {
      "cell_type": "markdown",
      "metadata": {
        "id": "view-in-github",
        "colab_type": "text"
      },
      "source": [
        "<a href=\"https://colab.research.google.com/github/GitMishka/2/blob/main/python_prac.ipynb\" target=\"_parent\"><img src=\"https://colab.research.google.com/assets/colab-badge.svg\" alt=\"Open In Colab\"/></a>"
      ]
    },
    {
      "cell_type": "markdown",
      "source": [
        "2025/3/4 Masking"
      ],
      "metadata": {
        "id": "rPDhVV4MZz5d"
      }
    },
    {
      "cell_type": "code",
      "execution_count": null,
      "metadata": {
        "id": "eS5PNEMUZFCl"
      },
      "outputs": [],
      "source": [
        "import pandas as pd\n",
        "\n",
        "# Sample Data\n",
        "data = {'Email': ['john.doe@example.com', 'jane.smith@example.com'],\n",
        "        'Phone': ['123-456-7890', '987-654-3210']}\n",
        "df = pd.DataFrame(data)\n",
        "\n",
        "# Define the Masking Functions\n",
        "def mask_email(email):\n",
        "    parts = email.split('@')\n",
        "    masked_local = parts[0][0] + '*' * (len(parts[0]) - 2) + parts[0][-1] if len(parts[0]) > 2 else parts[0] + '*'\n",
        "    return masked_local + '@' + parts[1]\n",
        "\n",
        "def mask_phone(phone):\n",
        "    return '*' * (len(phone) - 4) + phone[-4:]\n",
        "\n",
        "# Apply Masking Functions\n",
        "df['Email'] = df['Email'].apply(mask_email)\n",
        "df['Phone'] = df['Phone'].apply(mask_phone)\n",
        "\n",
        "df\n"
      ]
    },
    {
      "cell_type": "markdown",
      "source": [
        "Hash"
      ],
      "metadata": {
        "id": "AEtilQmdaQFG"
      }
    },
    {
      "cell_type": "code",
      "source": [
        "import hashlib\n",
        "\n",
        "def hash_pii(data):\n",
        "    \"\"\"Hashes PII using SHA-256.\"\"\"\n",
        "    return hashlib.sha256(data.encode()).hexdigest()\n",
        "\n",
        "# Example Usage\n",
        "pii_data = \"123-45-6789\"  # Example SSN\n",
        "hashed_pii = hash_pii(pii_data)\n",
        "\n",
        "print(\"Hashed PII:\", hashed_pii)\n"
      ],
      "metadata": {
        "colab": {
          "base_uri": "https://localhost:8080/"
        },
        "id": "5JSB2KhnaBrR",
        "outputId": "b7816426-4743-4819-b117-97f4d314f827"
      },
      "execution_count": null,
      "outputs": [
        {
          "output_type": "stream",
          "name": "stdout",
          "text": [
            "Hashed PII: 01a54629efb952287e554eb23ef69c52097a75aecc0e3a93ca0855ab6d7a31a0\n"
          ]
        }
      ]
    },
    {
      "cell_type": "markdown",
      "source": [
        "crypto"
      ],
      "metadata": {
        "id": "xdiFC_rkaqFS"
      }
    },
    {
      "cell_type": "markdown",
      "source": [],
      "metadata": {
        "id": "N7k5MTa1akRc"
      }
    },
    {
      "cell_type": "code",
      "source": [
        "from cryptography.fernet import Fernet\n",
        "\n",
        "# Generate a key and initialize Fernet\n",
        "key = Fernet.generate_key()\n",
        "cipher = Fernet(key)\n",
        "\n",
        "def encrypt_data(data):\n",
        "    \"\"\"Encrypts PII using Fernet encryption.\"\"\"\n",
        "    return cipher.encrypt(data.encode()).decode()\n",
        "\n",
        "def decrypt_data(encrypted_data):\n",
        "    \"\"\"Decrypts the encrypted PII.\"\"\"\n",
        "    return cipher.decrypt(encrypted_data.encode()).decode()\n",
        "\n",
        "# Example Usage\n",
        "pii_data = \"johndoe@example.com\"\n",
        "encrypted_pii = encrypt_data(pii_data)\n",
        "decrypted_pii = decrypt_data(encrypted_pii)\n",
        "\n",
        "print(\"Encrypted:\", encrypted_pii)\n",
        "print(\"Decrypted:\", decrypted_pii)\n"
      ],
      "metadata": {
        "colab": {
          "base_uri": "https://localhost:8080/"
        },
        "id": "3htlLygXasE0",
        "outputId": "125094aa-e08d-4f38-85da-5c356f78d8e2"
      },
      "execution_count": null,
      "outputs": [
        {
          "output_type": "stream",
          "name": "stdout",
          "text": [
            "Encrypted: gAAAAABnx4fkPxr8ZYXT8fjq2AGbBwq9p-pyaI3ixnfvn6NAmCEVL7_y8J5EQgR-r594SUutTvZvfYIH9h-ZhTfX6vTXdoA79Rp4Q2eQQbsu8cIksYpuApk=\n",
            "Decrypted: johndoe@example.com\n"
          ]
        }
      ]
    },
    {
      "cell_type": "code",
      "source": [
        "import pandas as pd\n",
        "import mimetypes\n",
        "import os\n",
        "\n",
        "def validate_file_format(file_path, expected_format):\n",
        "    \"\"\"\n",
        "    Validates if the file format matches the expected format.\n",
        "\n",
        "    Args:\n",
        "        file_path (str): Path to the file\n",
        "        expected_format (str): Expected file format (e.g., 'csv', 'json', 'parquet')\n",
        "\n",
        "    Returns:\n",
        "        bool: True if the file is valid, False otherwise\n",
        "    \"\"\"\n",
        "    # Check file extension\n",
        "    file_extension = os.path.splitext(file_path)[1].lower()\n",
        "    if file_extension != f\".{expected_format}\":\n",
        "        print(f\"Invalid file extension: {file_extension}. Expected: .{expected_format}\")\n",
        "        return False\n",
        "\n",
        "    # Check MIME type to confirm file content\n",
        "    mime_type, _ = mimetypes.guess_type(file_path)\n",
        "    valid_mime_types = {\n",
        "        \"csv\": \"text/csv\",\n",
        "        \"json\": \"application/json\",\n",
        "        \"parquet\": \"application/octet-stream\"  # Parquet may not always have a specific MIME\n",
        "    }\n",
        "\n",
        "    if mime_type != valid_mime_types.get(expected_format, mime_type):\n",
        "        print(f\"Invalid MIME type: {mime_type}. Expected: {valid_mime_types[expected_format]}\")\n",
        "        return False\n",
        "\n",
        "    print(f\"File format validation passed for {file_path}\")\n",
        "    return True\n",
        "\n",
        "# Example usage\n",
        "validate_file_format(\"data.csv\", \"csv\")\n"
      ],
      "metadata": {
        "id": "vPqckm8taxLA"
      },
      "execution_count": null,
      "outputs": []
    },
    {
      "cell_type": "code",
      "source": [
        "import pandas as pd\n",
        "\n",
        "# Define expected schema with column names and expected data types\n",
        "expected_schema = {\n",
        "    \"id\": \"int64\",\n",
        "    \"name\": \"object\",  # \"object\" is Pandas' equivalent of a string\n",
        "    \"age\": \"int64\",\n",
        "    \"email\": \"object\"\n",
        "}\n",
        "\n",
        "def validate_schema(df, expected_schema):\n",
        "    \"\"\"\n",
        "    Validates if the DataFrame conforms to the expected schema.\n",
        "\n",
        "    Args:\n",
        "        df (pd.DataFrame): The DataFrame to validate\n",
        "        expected_schema (dict): Dictionary defining expected columns and their data types\n",
        "\n",
        "    Returns:\n",
        "        bool: True if schema matches, False otherwise\n",
        "    \"\"\"\n",
        "    for column, expected_dtype in expected_schema.items():\n",
        "        if column not in df.columns:\n",
        "            print(f\"Missing column: {column}\")\n",
        "            return False\n",
        "        if df[column].dtype != expected_dtype:\n",
        "            print(f\"Incorrect data type for {column}. Expected: {expected_dtype}, Found: {df[column].dtype}\")\n",
        "            return False\n",
        "\n",
        "    print(\"Schema validation passed\")\n",
        "    return True\n",
        "\n",
        "# Example usage with a sample DataFrame\n",
        "df = pd.DataFrame({\n",
        "    \"id\": [1, 2],\n",
        "    \"name\": [\"Alice\", \"Bob\"],\n",
        "    \"age\": [30, 25],\n",
        "    \"email\": [\"alice@example.com\", \"bob@example.com\"]\n",
        "})\n",
        "\n",
        "validate_schema(df, expected_schema)\n"
      ],
      "metadata": {
        "id": "25gdFpH6_fqK"
      },
      "execution_count": null,
      "outputs": []
    },
    {
      "cell_type": "code",
      "source": [
        "import pandas as pd\n",
        "\n",
        "def check_mandatory_fields(df, required_columns):\n",
        "    \"\"\"\n",
        "    Checks if mandatory fields are present and non-null.\n",
        "\n",
        "    Args:\n",
        "        df (pd.DataFrame): DataFrame to check\n",
        "        required_columns (list): List of required column names\n",
        "\n",
        "    Returns:\n",
        "        bool: True if no missing values, False otherwise\n",
        "    \"\"\"\n",
        "    missing_values = df[required_columns].isnull().sum()\n",
        "    if missing_values.any():\n",
        "        print(\"Missing values found:\\n\", missing_values)\n",
        "        return False\n",
        "    print(\"Mandatory fields check passed\")\n",
        "    return True\n",
        "\n",
        "# Example usage\n",
        "df = pd.DataFrame({\n",
        "    \"id\": [1, 2, None],\n",
        "    \"name\": [\"Alice\", None, \"Charlie\"],\n",
        "    \"age\": [30, 25, 29]\n",
        "})\n",
        "\n",
        "check_mandatory_fields(df, [\"id\", \"name\", \"age\"])\n"
      ],
      "metadata": {
        "id": "w6O488nw_qU8"
      },
      "execution_count": null,
      "outputs": []
    },
    {
      "cell_type": "code",
      "source": [
        "import psycopg2\n",
        "from psycopg2 import sql\n",
        "\n",
        "# PostgreSQL Connection Details\n",
        "pg_host = \"\"\n",
        "pg_database = \"\"\n",
        "pg_user = \"\"\n",
        "pg_password = \"\"\n",
        "pg_port = \"5432\"  # Default PostgreSQL port\n",
        "\n",
        "# Azure PostgreSQL requires SSL mode\n",
        "conn_string = f\"dbname='{pg_database}' user='{pg_user}' password='{pg_password}' host='{pg_host}' port='{pg_port}' sslmode='require'\"\n",
        "\n",
        "def test_db_connection():\n",
        "    try:\n",
        "        # Connect to PostgreSQL\n",
        "        conn = psycopg2.connect(conn_string)\n",
        "        cursor = conn.cursor()\n",
        "\n",
        "        # Run a test query\n",
        "        cursor.execute(\"SELECT 1;\")\n",
        "        result = cursor.fetchone()\n",
        "\n",
        "        if result and result[0] == 1:\n",
        "            print(\"✅ PostgreSQL connection to Azure is successful!\")\n",
        "        else:\n",
        "            print(\"❌ Unexpected result from test query.\")\n",
        "\n",
        "        # Close connection\n",
        "        cursor.close()\n",
        "        conn.close()\n",
        "\n",
        "    except Exception as e:\n",
        "        print(f\"❌ Database connection failed: {e}\")\n",
        "\n",
        "# Run the test\n",
        "test_db_connection()\n"
      ],
      "metadata": {
        "id": "gZAFeIT5r2MO"
      },
      "execution_count": null,
      "outputs": []
    }
  ]
}