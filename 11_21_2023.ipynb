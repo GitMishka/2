{
  "nbformat": 4,
  "nbformat_minor": 0,
  "metadata": {
    "colab": {
      "provenance": [],
      "authorship_tag": "ABX9TyMMH4E/+4CIHd9P/wApgawS",
      "include_colab_link": true
    },
    "kernelspec": {
      "name": "python3",
      "display_name": "Python 3"
    },
    "language_info": {
      "name": "python"
    }
  },
  "cells": [
    {
      "cell_type": "markdown",
      "metadata": {
        "id": "view-in-github",
        "colab_type": "text"
      },
      "source": [
        "<a href=\"https://colab.research.google.com/github/GitMishka/2/blob/main/11_21_2023.ipynb\" target=\"_parent\"><img src=\"https://colab.research.google.com/assets/colab-badge.svg\" alt=\"Open In Colab\"/></a>"
      ]
    },
    {
      "cell_type": "code",
      "source": [
        "def hello(s: str):\n",
        "  return f'Hello, {s}!'\n",
        "hello('Bob')"
      ],
      "metadata": {
        "colab": {
          "base_uri": "https://localhost:8080/",
          "height": 43
        },
        "id": "OFuQEhIQYA9f",
        "outputId": "75d010d2-71bb-4bb0-b296-43433824dd5e"
      },
      "execution_count": null,
      "outputs": [
        {
          "output_type": "execute_result",
          "data": {
            "text/plain": [
              "'Hello, Bob'"
            ],
            "application/vnd.google.colaboratory.intrinsic+json": {
              "type": "string"
            }
          },
          "metadata": {},
          "execution_count": 1
        }
      ]
    },
    {
      "cell_type": "code",
      "source": [],
      "metadata": {
        "id": "eTLi8WEIeIye"
      },
      "execution_count": null,
      "outputs": []
    },
    {
      "cell_type": "code",
      "source": [
        "def addition(n1: int, n2: int):\n",
        "  return n1 + n2\n",
        "addition(2,3)"
      ],
      "metadata": {
        "colab": {
          "base_uri": "https://localhost:8080/"
        },
        "id": "DLiiz0D2YA1-",
        "outputId": "c24024f8-94e0-4865-ec23-aa408ce089b1"
      },
      "execution_count": null,
      "outputs": [
        {
          "output_type": "execute_result",
          "data": {
            "text/plain": [
              "5"
            ]
          },
          "metadata": {},
          "execution_count": 3
        }
      ]
    },
    {
      "cell_type": "code",
      "source": [
        "def m(n: list):\n",
        "  return max(n)\n",
        "m([1,2,3])\n"
      ],
      "metadata": {
        "colab": {
          "base_uri": "https://localhost:8080/"
        },
        "id": "z8UD6sz9YAt3",
        "outputId": "f6528f02-1805-458e-e6e7-fca716a0ce9e"
      },
      "execution_count": null,
      "outputs": [
        {
          "output_type": "execute_result",
          "data": {
            "text/plain": [
              "3"
            ]
          },
          "metadata": {},
          "execution_count": 5
        }
      ]
    },
    {
      "cell_type": "code",
      "source": [],
      "metadata": {
        "id": "9j1AEDiSa08J"
      },
      "execution_count": null,
      "outputs": []
    },
    {
      "cell_type": "code",
      "source": [],
      "metadata": {
        "id": "rBRVNx26cAjt"
      },
      "execution_count": null,
      "outputs": []
    },
    {
      "cell_type": "code",
      "execution_count": null,
      "metadata": {
        "id": "EYSHfeDiWwtt"
      },
      "outputs": [],
      "source": [
        "import logging\n",
        "import sqlite3\n",
        "from typing import Dict, Optional\n",
        "\n",
        "logging.basicConfig(level=logging.INFO)\n",
        "\n",
        "def get_user_data(db_path: str, user_id: int) -> Optional[Dict]:\n",
        "    \"\"\"\n",
        "    Fetches user data from the database based on the user ID.\n",
        "\n",
        "    Parameters:\n",
        "    db_path (str): Path to the SQLite database file.\n",
        "    user_id (int): The ID of the user to fetch data for.\n",
        "\n",
        "    Returns:\n",
        "    dict: A dictionary containing user data if found, otherwise None.\n",
        "    \"\"\"\n",
        "    try:\n",
        "        conn = sqlite3.connect(db_path)\n",
        "        cursor = conn.cursor()\n",
        "        cursor.execute(\"SELECT * FROM users WHERE id = ?\", (user_id,))\n",
        "        data = cursor.fetchone()\n",
        "        conn.close()\n",
        "\n",
        "        if data:\n",
        "            user_data = {\"id\": data[0], \"name\": data[1], \"email\": data[2]}\n",
        "            return user_data\n",
        "        else:\n",
        "            return None\n",
        "    except sqlite3.Error as e:\n",
        "        logging.error(f\"Database error: {e}\")\n",
        "        return None\n",
        "    except Exception as e:\n",
        "        logging.error(f\"Error fetching user data: {e}\")\n",
        "        return None\n",
        "\n",
        "if __name__ == \"__main__\":\n",
        "    user_data = get_user_data(\"path/to/database.db\", 1)\n",
        "    if user_data:\n",
        "        print(f\"User Data: {user_data}\")\n",
        "    else:\n",
        "        print(\"User not found.\")\n"
      ]
    },
    {
      "cell_type": "code",
      "source": [
        "import unittest\n",
        "from user_data import get_user_data\n",
        "\n",
        "class TestUserData(unittest.TestCase):\n",
        "\n",
        "    def test_user_data_valid(self):\n",
        "        \"\"\" Test retrieving user data with a valid user ID \"\"\"\n",
        "        result = get_user_data(\"path/to/database.db\", 1)\n",
        "        self.assertIsNotNone(result)\n",
        "\n",
        "    def test_user_data_invalid(self):\n",
        "        \"\"\" Test retrieving user data with an invalid user ID \"\"\"\n",
        "        result = get_user_data(\"path/to/database.db\", -1)\n",
        "        self.assertIsNone(result)\n",
        "\n",
        "if __name__ == '__main__':\n",
        "    unittest.main()\n"
      ],
      "metadata": {
        "id": "_3swaGc6XXYI"
      },
      "execution_count": null,
      "outputs": []
    }
  ]
}